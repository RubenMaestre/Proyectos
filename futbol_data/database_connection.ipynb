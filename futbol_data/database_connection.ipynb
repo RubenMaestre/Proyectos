{
 "cells": [
  {
   "cell_type": "markdown",
   "metadata": {},
   "source": [
    "#### Lo primero es crear la base de datos. Yo lo he hecho en Workbench de forma manual. También podría haberlo hecho por aquí, pero bueno, no es complicado. A partir de aquí importamos librerías y hacemos conexión con la base de datos que yo he llamado futbol_data"
   ]
  },
  {
   "cell_type": "code",
   "execution_count": 5,
   "metadata": {},
   "outputs": [],
   "source": [
    "import mysql.connector\n",
    "import pandas as pd"
   ]
  },
  {
   "cell_type": "markdown",
   "metadata": {},
   "source": [
    "Primero, establece la conexión con tu base de datos. Asegúrate de cambiar las credenciales y el nombre de la base de datos según tus necesidades:"
   ]
  },
  {
   "cell_type": "code",
   "execution_count": 6,
   "metadata": {},
   "outputs": [],
   "source": [
    "conexion = mysql.connector.connect(\n",
    "    host='localhost',\n",
    "    user='root',  # Asegúrate de cambiar 'root' por tu usuario de MySQL si es diferente\n",
    "    password='rubenico',  # Usa tu contraseña real de MySQL aquí\n",
    "    database=\"futbol_data\"  # Cambia \"futbol_data\" por el nombre real de tu base de datos si es diferente\n",
    ")"
   ]
  },
  {
   "cell_type": "markdown",
   "metadata": {},
   "source": [
    "#### Definir la Función para Ejecutar Consultas\n",
    "Ahora, define la función execute_query que toma una consulta SQL como argumento, ejecuta la consulta y devuelve los resultados en un DataFrame de pandas:"
   ]
  },
  {
   "cell_type": "code",
   "execution_count": 13,
   "metadata": {},
   "outputs": [],
   "source": [
    "def execute_query(query):\n",
    "    cursor = conexion.cursor()\n",
    "    cursor.execute(query)\n",
    "    try:\n",
    "        # Solo intenta obtener los resultados si hay una descripción del cursor (es decir, si hay resultados)\n",
    "        columnas = [desc[0] for desc in cursor.description]  # Obtiene los nombres de las columnas\n",
    "        resultados = cursor.fetchall()  # Obtiene todos los resultados de la consulta\n",
    "        df = pd.DataFrame(resultados, columns=columnas)  # Crea un DataFrame con los resultados\n",
    "        cursor.close()  # Cierra el cursor\n",
    "        return df.head(50)  # Retorna las primeras 50 filas del DataFrame\n",
    "    except TypeError:\n",
    "        # Maneja el caso de que no hay resultados para devolver (como en CREATE TABLE)\n",
    "        conexion.commit()  # Asegúrate de hacer commit de la transacción\n",
    "        cursor.close()  # Cierra el cursor\n",
    "        print(\"Query executed successfully\")\n",
    "        return None\n",
    "\n"
   ]
  },
  {
   "cell_type": "markdown",
   "metadata": {},
   "source": [
    "##### Imagen de lo que queremos construir \n",
    "<img src=\"imagen_base_datos.jpg\"/>"
   ]
  },
  {
   "cell_type": "markdown",
   "metadata": {},
   "source": [
    "* Lo primero que vamos a hacer es cargar todos los csv para ver las columnas de las que se componen para poder montar las tablas de la base de datos"
   ]
  },
  {
   "cell_type": "code",
   "execution_count": 9,
   "metadata": {},
   "outputs": [
    {
     "name": "stdout",
     "output_type": "stream",
     "text": [
      "['competition_id', 'competition_code', 'name', 'sub_type', 'type', 'country_id', 'country_name', 'domestic_league_code', 'confederation', 'url']\n",
      "['club_id', 'club_code', 'name', 'domestic_competition_id', 'total_market_value', 'squad_size', 'average_age', 'foreigners_number', 'foreigners_percentage', 'national_team_players', 'stadium_name', 'stadium_seats', 'net_transfer_record', 'coach_name', 'last_season', 'filename', 'url']\n",
      "['game_id', 'competition_id', 'season', 'round', 'date', 'home_club_id', 'away_club_id', 'home_club_goals', 'away_club_goals', 'home_club_position', 'away_club_position', 'home_club_manager_name', 'away_club_manager_name', 'stadium', 'attendance', 'referee', 'url', 'home_club_formation', 'away_club_formation', 'home_club_name', 'away_club_name', 'aggregate', 'competition_type']\n",
      "['appearance_id', 'game_id', 'player_id', 'player_club_id', 'player_current_club_id', 'date', 'player_name', 'competition_id', 'yellow_cards', 'red_cards', 'goals', 'assists', 'minutes_played']\n",
      "['game_id', 'club_id', 'own_goals', 'own_position', 'own_manager_name', 'opponent_id', 'opponent_goals', 'opponent_position', 'opponent_manager_name', 'hosting', 'is_win']\n",
      "['game_event_id', 'date', 'game_id', 'minute', 'type', 'club_id', 'player_id', 'description', 'player_in_id', 'player_assist_id']\n",
      "['game_lineups_id', 'game_id', 'club_id', 'type', 'number', 'player_id', 'player_name', 'team_captain', 'position']\n",
      "['player_id', 'date', 'market_value_in_eur', 'current_club_id', 'player_club_domestic_competition_id']\n",
      "['player_id', 'first_name', 'last_name', 'name', 'last_season', 'current_club_id', 'player_code', 'country_of_birth', 'city_of_birth', 'country_of_citizenship', 'date_of_birth', 'sub_position', 'position', 'foot', 'height_in_cm', 'contract_expiration_date', 'agent_name', 'image_url', 'url', 'current_club_domestic_competition_id', 'current_club_name', 'market_value_in_eur', 'highest_market_value_in_eur']\n"
     ]
    }
   ],
   "source": [
    "# Asumiendo que tenemos los archivos csv en la carpeta 'datos'\n",
    "df_competitions = pd.read_csv('datos/competitions.csv')\n",
    "df_clubs = pd.read_csv('datos/clubs.csv')\n",
    "df_games = pd.read_csv('datos/games.csv')\n",
    "df_appearances = pd.read_csv('datos/appearances.csv')\n",
    "df_club_games = pd.read_csv('datos/club_games.csv')\n",
    "df_game_events = pd.read_csv('datos/game_events.csv')\n",
    "df_game_lineups = pd.read_csv('datos/game_lineups.csv')\n",
    "df_player_valuations = pd.read_csv('datos/player_valuations.csv')\n",
    "df_players = pd.read_csv('datos/players.csv')\n",
    "\n",
    "\n",
    "# Mostrar las columnas del DataFrame\n",
    "print(df_competitions.columns.tolist())\n",
    "print(df_clubs.columns.tolist())\n",
    "print(df_games.columns.tolist())\n",
    "print(df_appearances.columns.tolist())\n",
    "print(df_club_games.columns.tolist())\n",
    "print(df_game_events.columns.tolist())\n",
    "print(df_game_lineups.columns.tolist())\n",
    "print(df_player_valuations.columns.tolist())\n",
    "print(df_players.columns.tolist())"
   ]
  },
  {
   "cell_type": "markdown",
   "metadata": {},
   "source": [
    "### Ahora vamos a crear las tablas en la base de datos"
   ]
  },
  {
   "cell_type": "code",
   "execution_count": 14,
   "metadata": {},
   "outputs": [
    {
     "name": "stdout",
     "output_type": "stream",
     "text": [
      "Query executed successfully\n"
     ]
    }
   ],
   "source": [
    "query_competitions = \"\"\"\n",
    "CREATE TABLE IF NOT EXISTS competitions (\n",
    "    competition_id INT PRIMARY KEY,\n",
    "    competition_code VARCHAR(10),\n",
    "    name VARCHAR(255) NOT NULL,\n",
    "    sub_type VARCHAR(50),\n",
    "    type VARCHAR(50),\n",
    "    country_id INT,\n",
    "    country_name VARCHAR(100),\n",
    "    domestic_league_code VARCHAR(10),\n",
    "    confederation VARCHAR(50),\n",
    "    url VARCHAR(255)\n",
    ");\n",
    "\"\"\"\n",
    "execute_query(query_competitions)"
   ]
  },
  {
   "cell_type": "code",
   "execution_count": 15,
   "metadata": {},
   "outputs": [
    {
     "name": "stdout",
     "output_type": "stream",
     "text": [
      "Query executed successfully\n"
     ]
    }
   ],
   "source": [
    "query_clubs = \"\"\"\n",
    "CREATE TABLE IF NOT EXISTS clubs (\n",
    "    club_id INT PRIMARY KEY,\n",
    "    club_code VARCHAR(10),\n",
    "    name VARCHAR(255) NOT NULL,\n",
    "    domestic_competition_id INT,\n",
    "    total_market_value FLOAT,\n",
    "    squad_size INT,\n",
    "    average_age FLOAT,\n",
    "    foreigners_number INT,\n",
    "    foreigners_percentage FLOAT,\n",
    "    national_team_players INT,\n",
    "    stadium_name VARCHAR(255),\n",
    "    stadium_seats INT,\n",
    "    net_transfer_record VARCHAR(255),\n",
    "    coach_name VARCHAR(255),\n",
    "    last_season VARCHAR(50),\n",
    "    filename VARCHAR(100),\n",
    "    url VARCHAR(255),\n",
    "    FOREIGN KEY (domestic_competition_id) REFERENCES competitions(competition_id)\n",
    ");\n",
    "\"\"\"\n",
    "execute_query(query_clubs)\n"
   ]
  },
  {
   "cell_type": "code",
   "execution_count": 16,
   "metadata": {},
   "outputs": [
    {
     "name": "stdout",
     "output_type": "stream",
     "text": [
      "Query executed successfully\n"
     ]
    }
   ],
   "source": [
    "query_players = \"\"\"\n",
    "CREATE TABLE IF NOT EXISTS players (\n",
    "    player_id INT PRIMARY KEY,\n",
    "    first_name VARCHAR(255),\n",
    "    last_name VARCHAR(255),\n",
    "    name VARCHAR(255),\n",
    "    last_season VARCHAR(50),\n",
    "    current_club_id INT,\n",
    "    player_code VARCHAR(50),\n",
    "    country_of_birth VARCHAR(255),\n",
    "    city_of_birth VARCHAR(255),\n",
    "    country_of_citizenship VARCHAR(255),\n",
    "    date_of_birth DATE,\n",
    "    sub_position VARCHAR(50),\n",
    "    position VARCHAR(50),\n",
    "    foot VARCHAR(50),\n",
    "    height_in_cm INT,\n",
    "    contract_expiration_date DATE,\n",
    "    agent_name VARCHAR(255),\n",
    "    image_url VARCHAR(255),\n",
    "    url VARCHAR(255),\n",
    "    current_club_domestic_competition_id INT,\n",
    "    current_club_name VARCHAR(255),\n",
    "    market_value_in_eur FLOAT,\n",
    "    highest_market_value_in_eur FLOAT,\n",
    "    FOREIGN KEY (current_club_id) REFERENCES clubs(club_id)\n",
    ");\n",
    "\"\"\"\n",
    "execute_query(query_players)\n"
   ]
  },
  {
   "cell_type": "code",
   "execution_count": 17,
   "metadata": {},
   "outputs": [
    {
     "name": "stdout",
     "output_type": "stream",
     "text": [
      "Query executed successfully\n"
     ]
    }
   ],
   "source": [
    "query_games = \"\"\"\n",
    "CREATE TABLE IF NOT EXISTS games (\n",
    "    game_id INT PRIMARY KEY,\n",
    "    competition_id INT,\n",
    "    season VARCHAR(10),\n",
    "    round VARCHAR(50),\n",
    "    date DATE,\n",
    "    home_club_id INT,\n",
    "    away_club_id INT,\n",
    "    home_club_goals INT,\n",
    "    away_club_goals INT,\n",
    "    home_club_position INT,\n",
    "    away_club_position INT,\n",
    "    home_club_manager_name VARCHAR(255),\n",
    "    away_club_manager_name VARCHAR(255),\n",
    "    stadium VARCHAR(255),\n",
    "    attendance INT,\n",
    "    referee VARCHAR(255),\n",
    "    url VARCHAR(255),\n",
    "    home_club_formation VARCHAR(50),\n",
    "    away_club_formation VARCHAR(50),\n",
    "    home_club_name VARCHAR(255),\n",
    "    away_club_name VARCHAR(255),\n",
    "    aggregate INT,\n",
    "    competition_type VARCHAR(50),\n",
    "    FOREIGN KEY (competition_id) REFERENCES competitions(competition_id),\n",
    "    FOREIGN KEY (home_club_id) REFERENCES clubs(club_id),\n",
    "    FOREIGN KEY (away_club_id) REFERENCES clubs(club_id)\n",
    ");\n",
    "\"\"\"\n",
    "execute_query(query_games)\n"
   ]
  },
  {
   "cell_type": "code",
   "execution_count": 18,
   "metadata": {},
   "outputs": [
    {
     "name": "stdout",
     "output_type": "stream",
     "text": [
      "Query executed successfully\n"
     ]
    }
   ],
   "source": [
    "query_club_games = \"\"\"\n",
    "CREATE TABLE IF NOT EXISTS club_games (\n",
    "    game_id INT,\n",
    "    club_id INT,\n",
    "    own_goals INT,\n",
    "    own_position INT,\n",
    "    own_manager_name VARCHAR(255),\n",
    "    opponent_id INT,\n",
    "    opponent_goals INT,\n",
    "    opponent_position INT,\n",
    "    opponent_manager_name VARCHAR(255),\n",
    "    hosting BOOLEAN,\n",
    "    is_win BOOLEAN,\n",
    "    PRIMARY KEY (game_id, club_id),\n",
    "    FOREIGN KEY (game_id) REFERENCES games(game_id),\n",
    "    FOREIGN KEY (club_id) REFERENCES clubs(club_id),\n",
    "    FOREIGN KEY (opponent_id) REFERENCES clubs(club_id)\n",
    ");\n",
    "\"\"\"\n",
    "execute_query(query_club_games)\n"
   ]
  },
  {
   "cell_type": "code",
   "execution_count": 19,
   "metadata": {},
   "outputs": [
    {
     "name": "stdout",
     "output_type": "stream",
     "text": [
      "Query executed successfully\n"
     ]
    }
   ],
   "source": [
    "query_appearances = \"\"\"\n",
    "CREATE TABLE IF NOT EXISTS appearances (\n",
    "    appearance_id INT PRIMARY KEY,\n",
    "    game_id INT,\n",
    "    player_id INT,\n",
    "    player_club_id INT,\n",
    "    player_current_club_id INT,\n",
    "    date DATE,\n",
    "    player_name VARCHAR(255),\n",
    "    competition_id INT,\n",
    "    yellow_cards INT,\n",
    "    red_cards INT,\n",
    "    goals INT,\n",
    "    assists INT,\n",
    "    minutes_played INT,\n",
    "    FOREIGN KEY (game_id) REFERENCES games(game_id),\n",
    "    FOREIGN KEY (player_id) REFERENCES players(player_id),\n",
    "    FOREIGN KEY (competition_id) REFERENCES competitions(competition_id),\n",
    "    FOREIGN KEY (player_club_id) REFERENCES clubs(club_id)\n",
    ");\n",
    "\"\"\"\n",
    "execute_query(query_appearances)\n"
   ]
  },
  {
   "cell_type": "code",
   "execution_count": 20,
   "metadata": {},
   "outputs": [
    {
     "name": "stdout",
     "output_type": "stream",
     "text": [
      "Query executed successfully\n"
     ]
    }
   ],
   "source": [
    "query_game_lineups = \"\"\"\n",
    "CREATE TABLE IF NOT EXISTS game_lineups (\n",
    "    game_lineups_id INT PRIMARY KEY,\n",
    "    game_id INT,\n",
    "    club_id INT,\n",
    "    type VARCHAR(255),\n",
    "    number INT,\n",
    "    player_id INT,\n",
    "    player_name VARCHAR(255),\n",
    "    team_captain BOOLEAN,\n",
    "    position VARCHAR(50),\n",
    "    FOREIGN KEY (game_id) REFERENCES games(game_id),\n",
    "    FOREIGN KEY (club_id) REFERENCES clubs(club_id),\n",
    "    FOREIGN KEY (player_id) REFERENCES players(player_id)\n",
    ");\n",
    "\"\"\"\n",
    "execute_query(query_game_lineups)\n"
   ]
  },
  {
   "cell_type": "code",
   "execution_count": 21,
   "metadata": {},
   "outputs": [
    {
     "name": "stdout",
     "output_type": "stream",
     "text": [
      "Query executed successfully\n"
     ]
    }
   ],
   "source": [
    "query_player_valuations = \"\"\"\n",
    "CREATE TABLE IF NOT EXISTS player_valuations (\n",
    "    player_id INT,\n",
    "    date DATE,\n",
    "    market_value_in_eur FLOAT,\n",
    "    current_club_id INT,\n",
    "    player_club_domestic_competition_id INT,\n",
    "    PRIMARY KEY (player_id, date),\n",
    "    FOREIGN KEY (player_id) REFERENCES players(player_id),\n",
    "    FOREIGN KEY (current_club_id) REFERENCES clubs(club_id)\n",
    ");\n",
    "\"\"\"\n",
    "execute_query(query_player_valuations)\n"
   ]
  },
  {
   "cell_type": "code",
   "execution_count": 22,
   "metadata": {},
   "outputs": [
    {
     "name": "stdout",
     "output_type": "stream",
     "text": [
      "Query executed successfully\n"
     ]
    }
   ],
   "source": [
    "query_game_events = \"\"\"\n",
    "CREATE TABLE IF NOT EXISTS game_events (\n",
    "    game_event_id INT PRIMARY KEY,\n",
    "    date DATE,\n",
    "    game_id INT,\n",
    "    minute INT,\n",
    "    type VARCHAR(255),\n",
    "    club_id INT,\n",
    "    player_id INT,\n",
    "    description TEXT,\n",
    "    player_in_id INT,\n",
    "    player_out_id INT,\n",
    "    player_assist_id INT,\n",
    "    FOREIGN KEY (game_id) REFERENCES games(game_id),\n",
    "    FOREIGN KEY (club_id) REFERENCES clubs(club_id),\n",
    "    FOREIGN KEY (player_id) REFERENCES players(player_id),\n",
    "    FOREIGN KEY (player_in_id) REFERENCES players(player_id),\n",
    "    FOREIGN KEY (player_out_id) REFERENCES players(player_id),\n",
    "    FOREIGN KEY (player_assist_id) REFERENCES players(player_id)\n",
    ");\n",
    "\"\"\"\n",
    "execute_query(query_game_events)\n"
   ]
  },
  {
   "cell_type": "markdown",
   "metadata": {},
   "source": [
    "* Ya tenemos las tablas creadas en la base de datos con sus claves. Ahora podemos hacer una comprobación para ver que es así y sus primary keys para comprobar que todo está ok."
   ]
  },
  {
   "cell_type": "code",
   "execution_count": 24,
   "metadata": {},
   "outputs": [
    {
     "name": "stdout",
     "output_type": "stream",
     "text": [
      "Tabla: appearances, Clave(s) Primaria(s): appearance_id\n",
      "Tabla: club_games, Clave(s) Primaria(s): game_id, club_id\n",
      "Tabla: clubs, Clave(s) Primaria(s): club_id\n",
      "Tabla: competitions, Clave(s) Primaria(s): competition_id\n",
      "Tabla: game_events, Clave(s) Primaria(s): game_event_id\n",
      "Tabla: game_lineups, Clave(s) Primaria(s): game_lineups_id\n",
      "Tabla: games, Clave(s) Primaria(s): game_id\n",
      "Tabla: player_valuations, Clave(s) Primaria(s): player_id, date\n",
      "Tabla: players, Clave(s) Primaria(s): player_id\n"
     ]
    }
   ],
   "source": [
    "def show_tables_with_primary_keys():\n",
    "    cursor = conexion.cursor()\n",
    "    cursor.execute(\"SHOW TABLES;\")\n",
    "    tables = cursor.fetchall()\n",
    "    \n",
    "    table_primary_keys = {}\n",
    "    \n",
    "    for table in tables:\n",
    "        table_name = table[0]\n",
    "        cursor.execute(f\"SHOW KEYS FROM `{table_name}` WHERE Key_name = 'PRIMARY'\")\n",
    "        primary_keys = cursor.fetchall()\n",
    "        # Cada fila en primary_keys contiene información sobre una columna de clave primaria\n",
    "        # El nombre de la columna está en la posición 4 de la fila\n",
    "        pk_column_names = [pk[4] for pk in primary_keys]\n",
    "        table_primary_keys[table_name] = pk_column_names\n",
    "\n",
    "    cursor.close()\n",
    "    return table_primary_keys\n",
    "\n",
    "# Llamamos a la función y mostramos las tablas con sus claves primarias\n",
    "tables_with_pks = show_tables_with_primary_keys()\n",
    "for table, pks in tables_with_pks.items():\n",
    "    print(f\"Tabla: {table}, Clave(s) Primaria(s): {', '.join(pks)}\")\n",
    "\n"
   ]
  },
  {
   "cell_type": "markdown",
   "metadata": {},
   "source": [
    "* Ahora lo que vamos a hacer es meter los datos. Para ello como lo tenemos todos los csv guardados en la carpeta datos, vamos a preparar una función para cada uno de ellos.\n"
   ]
  },
  {
   "cell_type": "code",
   "execution_count": 33,
   "metadata": {},
   "outputs": [
    {
     "name": "stdout",
     "output_type": "stream",
     "text": [
      "Foreign key constraints dropped successfully.\n"
     ]
    }
   ],
   "source": [
    "def drop_foreign_key_constraints():\n",
    "    cursor = conexion.cursor()\n",
    "    try:\n",
    "        cursor.execute(\"ALTER TABLE appearances DROP FOREIGN KEY appearances_ibfk_3;\")\n",
    "        conexion.commit()\n",
    "        print(\"Foreign key constraints dropped successfully.\")\n",
    "    except Exception as e:\n",
    "        print(f\"Error dropping foreign key constraints: {e}\")\n",
    "        conexion.rollback()\n",
    "    finally:\n",
    "        cursor.close()\n",
    "\n",
    "drop_foreign_key_constraints()\n",
    "\n"
   ]
  },
  {
   "cell_type": "code",
   "execution_count": 34,
   "metadata": {},
   "outputs": [
    {
     "name": "stdout",
     "output_type": "stream",
     "text": [
      "Column 'competition_id' modified successfully in all affected tables.\n"
     ]
    }
   ],
   "source": [
    "def modify_competition_id_column():\n",
    "    cursor = conexion.cursor()\n",
    "    try:\n",
    "        cursor.execute(\"ALTER TABLE competitions MODIFY competition_id VARCHAR(255);\")\n",
    "        cursor.execute(\"ALTER TABLE appearances MODIFY competition_id VARCHAR(255);\")  # Asegúrate de que 'appearances' tenga esta columna para modificar\n",
    "        conexion.commit()\n",
    "        print(\"Column 'competition_id' modified successfully in all affected tables.\")\n",
    "    except Exception as e:\n",
    "        print(f\"Error modifying columns: {e}\")\n",
    "        conexion.rollback()\n",
    "    finally:\n",
    "        cursor.close()\n",
    "\n",
    "modify_competition_id_column()\n"
   ]
  },
  {
   "cell_type": "code",
   "execution_count": 35,
   "metadata": {},
   "outputs": [
    {
     "name": "stdout",
     "output_type": "stream",
     "text": [
      "Error adding foreign key constraints: 3780 (HY000): Referencing column 'competition_id' and referenced column 'competition_id' in foreign key constraint 'games_ibfk_1' are incompatible.\n"
     ]
    }
   ],
   "source": [
    "def add_foreign_key_constraints():\n",
    "    cursor = conexion.cursor()\n",
    "    try:\n",
    "        cursor.execute(\"\"\"\n",
    "            ALTER TABLE games\n",
    "            ADD CONSTRAINT games_ibfk_1 FOREIGN KEY (competition_id) REFERENCES competitions(competition_id);\n",
    "        \"\"\")\n",
    "        cursor.execute(\"\"\"\n",
    "            ALTER TABLE appearances\n",
    "            ADD CONSTRAINT appearances_ibfk_3 FOREIGN KEY (competition_id) REFERENCES competitions(competition_id);\n",
    "        \"\"\")\n",
    "        conexion.commit()\n",
    "        print(\"Foreign key constraints re-established successfully.\")\n",
    "    except Exception as e:\n",
    "        print(f\"Error adding foreign key constraints: {e}\")\n",
    "        conexion.rollback()\n",
    "    finally:\n",
    "        cursor.close()\n",
    "\n",
    "add_foreign_key_constraints()\n"
   ]
  },
  {
   "cell_type": "code",
   "execution_count": 28,
   "metadata": {},
   "outputs": [
    {
     "name": "stdout",
     "output_type": "stream",
     "text": [
      "Error inserting row 0: 1366 (HY000): Incorrect integer value: 'CIT' for column 'competition_id' at row 1\n",
      "Error inserting row 1: 1366 (HY000): Incorrect integer value: 'NLSC' for column 'competition_id' at row 1\n",
      "Error inserting row 2: 1366 (HY000): Incorrect integer value: 'GRP' for column 'competition_id' at row 1\n",
      "Error inserting row 3: 1366 (HY000): Incorrect integer value: 'POSU' for column 'competition_id' at row 1\n",
      "Error inserting row 4: 1366 (HY000): Incorrect integer value: 'RUSS' for column 'competition_id' at row 1\n",
      "Error inserting row 5: 1366 (HY000): Incorrect integer value: 'SUC' for column 'competition_id' at row 1\n",
      "Error inserting row 6: 1366 (HY000): Incorrect integer value: 'USC' for column 'competition_id' at row 1\n",
      "Error inserting row 7: 1366 (HY000): Incorrect integer value: 'DK1' for column 'competition_id' at row 1\n",
      "Error inserting row 8: 1366 (HY000): Incorrect integer value: 'EL' for column 'competition_id' at row 1\n",
      "Error inserting row 9: 1366 (HY000): Incorrect integer value: 'ES1' for column 'competition_id' at row 1\n",
      "Error inserting row 10: 1366 (HY000): Incorrect integer value: 'FR1' for column 'competition_id' at row 1\n",
      "Error inserting row 11: 1366 (HY000): Incorrect integer value: 'IT1' for column 'competition_id' at row 1\n",
      "Error inserting row 12: 1366 (HY000): Incorrect integer value: 'NL1' for column 'competition_id' at row 1\n",
      "Error inserting row 13: 1366 (HY000): Incorrect integer value: 'RUP' for column 'competition_id' at row 1\n",
      "Error inserting row 14: 1366 (HY000): Incorrect integer value: 'PO1' for column 'competition_id' at row 1\n",
      "Error inserting row 15: 1366 (HY000): Incorrect integer value: 'BESC' for column 'competition_id' at row 1\n",
      "Error inserting row 16: 1366 (HY000): Incorrect integer value: 'GB1' for column 'competition_id' at row 1\n",
      "Error inserting row 17: 1366 (HY000): Incorrect integer value: 'ELQ' for column 'competition_id' at row 1\n",
      "Error inserting row 18: 1366 (HY000): Incorrect integer value: 'CGB' for column 'competition_id' at row 1\n",
      "Error inserting row 19: 1366 (HY000): Incorrect integer value: 'DKP' for column 'competition_id' at row 1\n",
      "Error inserting row 20: 1366 (HY000): Incorrect integer value: 'ECLQ' for column 'competition_id' at row 1\n",
      "Error inserting row 21: 1366 (HY000): Incorrect integer value: 'FAC' for column 'competition_id' at row 1\n",
      "Error inserting row 22: 1366 (HY000): Incorrect integer value: 'NLP' for column 'competition_id' at row 1\n",
      "Error inserting row 23: 1366 (HY000): Incorrect integer value: 'UKRS' for column 'competition_id' at row 1\n",
      "Error inserting row 24: 1366 (HY000): Incorrect integer value: 'UKR1' for column 'competition_id' at row 1\n",
      "Error inserting row 25: 1366 (HY000): Incorrect integer value: 'CDR' for column 'competition_id' at row 1\n",
      "Error inserting row 26: 1366 (HY000): Incorrect integer value: 'CL' for column 'competition_id' at row 1\n",
      "Error inserting row 27: 1366 (HY000): Incorrect integer value: 'GR1' for column 'competition_id' at row 1\n",
      "Error inserting row 28: 1366 (HY000): Incorrect integer value: 'TR1' for column 'competition_id' at row 1\n",
      "Error inserting row 29: 1366 (HY000): Incorrect integer value: 'POCP' for column 'competition_id' at row 1\n",
      "Error inserting row 30: 1366 (HY000): Incorrect integer value: 'GBCS' for column 'competition_id' at row 1\n",
      "Error inserting row 31: 1366 (HY000): Incorrect integer value: 'KLUB' for column 'competition_id' at row 1\n",
      "Error inserting row 32: 1366 (HY000): Incorrect integer value: 'L1' for column 'competition_id' at row 1\n",
      "Error inserting row 33: 1366 (HY000): Incorrect integer value: 'RU1' for column 'competition_id' at row 1\n",
      "Error inserting row 34: 1366 (HY000): Incorrect integer value: 'SC1' for column 'competition_id' at row 1\n",
      "Error inserting row 35: 1366 (HY000): Incorrect integer value: 'SCI' for column 'competition_id' at row 1\n",
      "Error inserting row 36: 1366 (HY000): Incorrect integer value: 'BE1' for column 'competition_id' at row 1\n",
      "Error inserting row 37: 1366 (HY000): Incorrect integer value: 'CLQ' for column 'competition_id' at row 1\n",
      "Error inserting row 38: 1366 (HY000): Incorrect integer value: 'DFL' for column 'competition_id' at row 1\n",
      "Error inserting row 39: 1366 (HY000): Incorrect integer value: 'SFA' for column 'competition_id' at row 1\n",
      "Error inserting row 40: 1366 (HY000): Incorrect integer value: 'UKRP' for column 'competition_id' at row 1\n",
      "Error inserting row 41: 1366 (HY000): Incorrect integer value: 'DFB' for column 'competition_id' at row 1\n",
      "Error inserting row 42: 1366 (HY000): Incorrect integer value: 'FRCH' for column 'competition_id' at row 1\n"
     ]
    }
   ],
   "source": [
    "\n",
    "def insert_competitions(df):\n",
    "    cursor = conexion.cursor()\n",
    "    for index, row in df.iterrows():\n",
    "        sql = \"\"\"\n",
    "        INSERT INTO competitions (competition_id, competition_code, name, sub_type, type, country_id, country_name, domestic_league_code, confederation, url)\n",
    "        VALUES (%s, %s, %s, %s, %s, %s, %s, %s, %s, %s)\n",
    "        \"\"\"\n",
    "        values = (row['competition_id'], row['competition_code'], row['name'], row['sub_type'], row['type'], row['country_id'], row['country_name'], row['domestic_league_code'], row['confederation'], row['url'])\n",
    "        try:\n",
    "            cursor.execute(sql, values)\n",
    "            conexion.commit()\n",
    "        except Exception as e:\n",
    "            print(f\"Error inserting row {index}: {e}\")\n",
    "            conexion.rollback()\n",
    "    cursor.close()\n",
    "\n",
    "\n",
    "insert_competitions(df_competitions)"
   ]
  }
 ],
 "metadata": {
  "kernelspec": {
   "display_name": "Python 3",
   "language": "python",
   "name": "python3"
  },
  "language_info": {
   "codemirror_mode": {
    "name": "ipython",
    "version": 3
   },
   "file_extension": ".py",
   "mimetype": "text/x-python",
   "name": "python",
   "nbconvert_exporter": "python",
   "pygments_lexer": "ipython3",
   "version": "3.11.7"
  }
 },
 "nbformat": 4,
 "nbformat_minor": 2
}
